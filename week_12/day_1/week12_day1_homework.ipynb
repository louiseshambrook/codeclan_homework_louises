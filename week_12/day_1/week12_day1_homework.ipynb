{
 "cells": [
  {
   "cell_type": "markdown",
   "id": "a3d2aa2f",
   "metadata": {},
   "source": [
    "## Week 12 Day 1 Homework"
   ]
  },
  {
   "cell_type": "markdown",
   "id": "2895b544",
   "metadata": {},
   "source": [
    "### Question 1\n",
    "\n",
    "Create a list with the following data, and assign it to a variable named shopping: 'spam' 'ham' 'eggs' 'ham'\n",
    "\n",
    "Then do the following:\n",
    "\n",
    "    Extract the second element of the list.\n",
    "\n",
    "    Extract the first to third (inclusive) element of the list.\n",
    "\n",
    "    Extract only the last element of the list."
   ]
  },
  {
   "cell_type": "code",
   "execution_count": 1,
   "id": "a58909c6",
   "metadata": {},
   "outputs": [],
   "source": [
    "shopping = ['spam', 'ham', 'eggs', 'ham']"
   ]
  },
  {
   "cell_type": "code",
   "execution_count": 2,
   "id": "a0d8e04c",
   "metadata": {},
   "outputs": [
    {
     "data": {
      "text/plain": [
       "'ham'"
      ]
     },
     "execution_count": 2,
     "metadata": {},
     "output_type": "execute_result"
    }
   ],
   "source": [
    "shopping[1]"
   ]
  },
  {
   "cell_type": "code",
   "execution_count": 7,
   "id": "46d8dacb",
   "metadata": {},
   "outputs": [
    {
     "data": {
      "text/plain": [
       "['spam', 'ham', 'eggs']"
      ]
     },
     "execution_count": 7,
     "metadata": {},
     "output_type": "execute_result"
    }
   ],
   "source": [
    "shopping[0:3]"
   ]
  },
  {
   "cell_type": "code",
   "execution_count": 8,
   "id": "5039a52a",
   "metadata": {},
   "outputs": [
    {
     "data": {
      "text/plain": [
       "'ham'"
      ]
     },
     "execution_count": 8,
     "metadata": {},
     "output_type": "execute_result"
    }
   ],
   "source": [
    "shopping[-1]"
   ]
  },
  {
   "cell_type": "markdown",
   "id": "f94e3169",
   "metadata": {},
   "source": [
    "### Question 2\n",
    "\n",
    "Set up a list with the following elements:\n",
    "\n",
    "stops = [\"Croy\", \"Cumbernauld\", \"Falkirk High\", \"Linlithgow\", \"Livingston\", \"Haymarket\"]\n",
    "\n",
    "Perform the following:\n",
    "\n",
    "    Append Edinburgh Waverley to the end of the list\n",
    "    Add \"Queen Street\" to the start of the list\n",
    "    Find out what index \"Croy\" is at in the list\n",
    "    Add \"Polmont\" at the appropriate point (between \"Falkirk High\" and \"Linlithgow\")\n",
    "    Remove \"Haymarket\" from the list of stops\n",
    "    Remove all items from stops\n",
    "\n",
    "Hint: Some of these methods will change the original object stops. If you make any unwanted changes and want to go back to the original object you can re-run the code chunks where we created the object stops and then appended \"Edinburgh Waverley\"."
   ]
  },
  {
   "cell_type": "code",
   "execution_count": 19,
   "id": "0293a00e",
   "metadata": {},
   "outputs": [],
   "source": [
    "stops = ['Croy', 'Cumbernauld', 'Falkirk High', 'Linlithgow', 'Livingston', 'Haymarket']"
   ]
  },
  {
   "cell_type": "code",
   "execution_count": 20,
   "id": "2211a96c",
   "metadata": {},
   "outputs": [
    {
     "data": {
      "text/plain": [
       "['Croy',\n",
       " 'Cumbernauld',\n",
       " 'Falkirk High',\n",
       " 'Linlithgow',\n",
       " 'Livingston',\n",
       " 'Haymarket',\n",
       " 'Edinburgh Waverly']"
      ]
     },
     "execution_count": 20,
     "metadata": {},
     "output_type": "execute_result"
    }
   ],
   "source": [
    "stops.append('Edinburgh Waverly')\n",
    "stops"
   ]
  },
  {
   "cell_type": "code",
   "execution_count": 21,
   "id": "b5c434df",
   "metadata": {},
   "outputs": [
    {
     "data": {
      "text/plain": [
       "['Queen Street',\n",
       " 'Croy',\n",
       " 'Cumbernauld',\n",
       " 'Falkirk High',\n",
       " 'Linlithgow',\n",
       " 'Livingston',\n",
       " 'Haymarket',\n",
       " 'Edinburgh Waverly']"
      ]
     },
     "execution_count": 21,
     "metadata": {},
     "output_type": "execute_result"
    }
   ],
   "source": [
    "stops.reverse()\n",
    "stops.append('Queen Street')\n",
    "stops.reverse()\n",
    "stops"
   ]
  },
  {
   "cell_type": "code",
   "execution_count": 22,
   "id": "228f8762",
   "metadata": {},
   "outputs": [
    {
     "data": {
      "text/plain": [
       "1"
      ]
     },
     "execution_count": 22,
     "metadata": {},
     "output_type": "execute_result"
    }
   ],
   "source": [
    "stops.index('Croy')"
   ]
  },
  {
   "cell_type": "code",
   "execution_count": 23,
   "id": "b1b9c1d9",
   "metadata": {},
   "outputs": [
    {
     "data": {
      "text/plain": [
       "['Queen Street',\n",
       " 'Croy',\n",
       " 'Cumbernauld',\n",
       " 'Falkirk High',\n",
       " 'Polmont',\n",
       " 'Linlithgow',\n",
       " 'Livingston',\n",
       " 'Haymarket',\n",
       " 'Edinburgh Waverly']"
      ]
     },
     "execution_count": 23,
     "metadata": {},
     "output_type": "execute_result"
    }
   ],
   "source": [
    "stops.remove('Linlithgow')\n",
    "stops.remove('Livingston')\n",
    "stops.remove('Haymarket')\n",
    "stops.remove('Edinburgh Waverly')\n",
    "stops.extend(['Polmont', 'Linlithgow', 'Livingston', 'Haymarket', 'Edinburgh Waverly'])\n",
    "stops"
   ]
  },
  {
   "cell_type": "code",
   "execution_count": 24,
   "id": "3bf9c3b2",
   "metadata": {},
   "outputs": [
    {
     "data": {
      "text/plain": [
       "['Queen Street',\n",
       " 'Croy',\n",
       " 'Cumbernauld',\n",
       " 'Falkirk High',\n",
       " 'Polmont',\n",
       " 'Linlithgow',\n",
       " 'Livingston',\n",
       " 'Edinburgh Waverly']"
      ]
     },
     "execution_count": 24,
     "metadata": {},
     "output_type": "execute_result"
    }
   ],
   "source": [
    "stops.remove('Haymarket')\n",
    "stops"
   ]
  },
  {
   "cell_type": "code",
   "execution_count": 29,
   "id": "a0e148a1",
   "metadata": {},
   "outputs": [
    {
     "data": {
      "text/plain": [
       "[]"
      ]
     },
     "execution_count": 29,
     "metadata": {},
     "output_type": "execute_result"
    }
   ],
   "source": [
    "stops.remove('Queen Street')\n",
    "stops.remove('Croy')\n",
    "stops.remove('Cumbernauld')\n",
    "stops.remove('Falkirk High')\n",
    "stops.remove('Polmont')\n",
    "stops.remove('Linlithgow')\n",
    "stops.remove('Livingston')\n",
    "stops.remove('Edinburgh Waverly')\n",
    "stops"
   ]
  },
  {
   "cell_type": "markdown",
   "id": "762e5052",
   "metadata": {},
   "source": [
    "### Question 3\n",
    "\n",
    "Set up the following dictionary:\n",
    "\n",
    "person = {\"name\": \"Steph\", \"age\": 31, \"Instructor\" : True}\n",
    "\n",
    "Do the following:\n",
    "\n",
    "    Return the keys, values and items from this dictionary\n",
    "\n",
    "    Take out only the name from it\n",
    "\n",
    "    Add a new key:value pair, which adds the email \"steph@codeclan.com\" to the dictionary\n",
    "\n",
    "    Delete the job description from the dictionary (Hint: look up the del function)"
   ]
  },
  {
   "cell_type": "code",
   "execution_count": 46,
   "id": "e26098dd",
   "metadata": {},
   "outputs": [],
   "source": [
    "person = {\"name\": \"Steph\", \"age\": 31, \"Instructor\" : True}"
   ]
  },
  {
   "cell_type": "code",
   "execution_count": 31,
   "id": "117dbfe1",
   "metadata": {},
   "outputs": [
    {
     "data": {
      "text/plain": [
       "dict_keys(['name', 'age', 'Instructor'])"
      ]
     },
     "execution_count": 31,
     "metadata": {},
     "output_type": "execute_result"
    }
   ],
   "source": [
    "person.keys()"
   ]
  },
  {
   "cell_type": "code",
   "execution_count": 32,
   "id": "76a9ce2e",
   "metadata": {},
   "outputs": [
    {
     "data": {
      "text/plain": [
       "dict_values(['Steph', 31, True])"
      ]
     },
     "execution_count": 32,
     "metadata": {},
     "output_type": "execute_result"
    }
   ],
   "source": [
    "person.values()"
   ]
  },
  {
   "cell_type": "code",
   "execution_count": 33,
   "id": "6b1b2ddb",
   "metadata": {},
   "outputs": [
    {
     "data": {
      "text/plain": [
       "dict_items([('name', 'Steph'), ('age', 31), ('Instructor', True)])"
      ]
     },
     "execution_count": 33,
     "metadata": {},
     "output_type": "execute_result"
    }
   ],
   "source": [
    "person.items()"
   ]
  },
  {
   "cell_type": "code",
   "execution_count": 38,
   "id": "ce24e882",
   "metadata": {},
   "outputs": [
    {
     "data": {
      "text/plain": [
       "'Steph'"
      ]
     },
     "execution_count": 38,
     "metadata": {},
     "output_type": "execute_result"
    }
   ],
   "source": [
    "person['name']"
   ]
  },
  {
   "cell_type": "code",
   "execution_count": 47,
   "id": "55cbb5b8",
   "metadata": {},
   "outputs": [
    {
     "data": {
      "text/plain": [
       "{'name': 'Steph', 'age': 31, 'Instructor': True, 'email': 'steph@codeclan.com'}"
      ]
     },
     "execution_count": 47,
     "metadata": {},
     "output_type": "execute_result"
    }
   ],
   "source": [
    "person.update({'email': 'steph@codeclan.com'})\n",
    "person"
   ]
  },
  {
   "cell_type": "code",
   "execution_count": 50,
   "id": "5e0c36b4",
   "metadata": {},
   "outputs": [
    {
     "data": {
      "text/plain": [
       "{'name': 'Steph', 'age': 31, 'email': 'steph@codeclan.com'}"
      ]
     },
     "execution_count": 50,
     "metadata": {},
     "output_type": "execute_result"
    }
   ],
   "source": [
    "del person[\"Instructor\"]\n",
    "person"
   ]
  },
  {
   "cell_type": "markdown",
   "id": "0e205196",
   "metadata": {},
   "source": [
    "### Question 4\n",
    "\n",
    "For the following list of numbers:\n",
    "\n",
    "numbers = [1, 6, 2, 2, 7, 1, 6, 13, 99, 7]\n",
    "\n",
    "    Print out a list of the even integers:\n",
    "\n",
    "    Print the difference between the largest and smallest value:\n",
    "\n",
    "    Print True if the list contains a 2 next to a 2 somewhere.\n",
    "\n",
    "    Print the sum of the numbers, BUT ignore any section of numbers starting with a 6 and extending to the next 7. So [11, 6, 4, 99, 7, 11] would have sum of 22"
   ]
  },
  {
   "cell_type": "code",
   "execution_count": 58,
   "id": "69d26dd9",
   "metadata": {
    "scrolled": true
   },
   "outputs": [
    {
     "name": "stdout",
     "output_type": "stream",
     "text": [
      "6\n",
      "2\n",
      "2\n",
      "6\n"
     ]
    }
   ],
   "source": [
    "numbers = [1, 6, 2, 2, 7, 1, 6, 13, 99, 7]\n",
    "\n",
    "for number in numbers:\n",
    "    if number % 2 == 0:\n",
    "        print(number)"
   ]
  },
  {
   "cell_type": "code",
   "execution_count": 61,
   "id": "f44bee82",
   "metadata": {},
   "outputs": [
    {
     "ename": "SyntaxError",
     "evalue": "invalid syntax (<ipython-input-61-45611b2b9ce1>, line 4)",
     "output_type": "error",
     "traceback": [
      "\u001b[0;36m  File \u001b[0;32m\"<ipython-input-61-45611b2b9ce1>\"\u001b[0;36m, line \u001b[0;32m4\u001b[0m\n\u001b[0;31m    if number is > number\u001b[0m\n\u001b[0m                 ^\u001b[0m\n\u001b[0;31mSyntaxError\u001b[0m\u001b[0;31m:\u001b[0m invalid syntax\n"
     ]
    }
   ],
   "source": [
    "numbers = [1, 6, 2, 2, 7, 1, 6, 13, 99, 7]\n",
    "\n",
    "for number in numbers:\n",
    "    if number is > number\n",
    "        print('highest number')\n",
    "    elif:\n",
    "    number < number\n",
    "        print('lowest number')\n",
    "    elif:\n",
    "        print('nope')\n",
    "\n",
    "        # not sure how to do this one"
   ]
  },
  {
   "cell_type": "code",
   "execution_count": 62,
   "id": "42a9bacd",
   "metadata": {},
   "outputs": [],
   "source": [
    "numbers = [1, 6, 2, 2, 7, 1, 6, 13, 99, 7]\n",
    "\n",
    "# also not sure"
   ]
  },
  {
   "cell_type": "markdown",
   "id": "3f88cd8e",
   "metadata": {},
   "source": [
    "### Question 5\n",
    "\n",
    "Write a conditional that takes in two inputs :\n",
    "\n",
    "    python_is_fun = True\n",
    "    python_is_weird = True\n",
    "\n",
    "We want to print \"Woo Python!\" if either python_is_fun is true OR python_is_weird is true OR both python_is_fun and python_is_weird are true. Otherwise, print \"Python is not for me!\". Make sure you test all the combinations."
   ]
  },
  {
   "cell_type": "code",
   "execution_count": 70,
   "id": "8b2d36ac",
   "metadata": {},
   "outputs": [],
   "source": [
    "def python_function(is_weird, is_fun):\n",
    "    if (is_weird == True or is_fun == True or is_weird == True and is_fun == True):\n",
    "        print('Woo Python!')\n",
    "    else:\n",
    "        print('Python is not for me!')\n",
    "        \n",
    "# this isn't working but I can't see why not, as I've defined the variable it wants me to define"
   ]
  },
  {
   "cell_type": "code",
   "execution_count": 71,
   "id": "41db37d9",
   "metadata": {},
   "outputs": [
    {
     "ename": "NameError",
     "evalue": "name 'is_weird' is not defined",
     "output_type": "error",
     "traceback": [
      "\u001b[0;31m---------------------------------------------------------------------------\u001b[0m",
      "\u001b[0;31mNameError\u001b[0m                                 Traceback (most recent call last)",
      "\u001b[0;32m<ipython-input-71-cc169a72fc87>\u001b[0m in \u001b[0;36m<module>\u001b[0;34m\u001b[0m\n\u001b[0;32m----> 1\u001b[0;31m \u001b[0mpython_function\u001b[0m\u001b[0;34m(\u001b[0m\u001b[0mis_weird\u001b[0m\u001b[0;34m)\u001b[0m\u001b[0;34m\u001b[0m\u001b[0;34m\u001b[0m\u001b[0m\n\u001b[0m",
      "\u001b[0;31mNameError\u001b[0m: name 'is_weird' is not defined"
     ]
    }
   ],
   "source": [
    "python_function(is_weird)"
   ]
  },
  {
   "cell_type": "code",
   "execution_count": null,
   "id": "33514dca",
   "metadata": {},
   "outputs": [],
   "source": []
  }
 ],
 "metadata": {
  "kernelspec": {
   "display_name": "Python 3",
   "language": "python",
   "name": "python3"
  },
  "language_info": {
   "codemirror_mode": {
    "name": "ipython",
    "version": 3
   },
   "file_extension": ".py",
   "mimetype": "text/x-python",
   "name": "python",
   "nbconvert_exporter": "python",
   "pygments_lexer": "ipython3",
   "version": "3.8.8"
  },
  "varInspector": {
   "cols": {
    "lenName": 16,
    "lenType": 16,
    "lenVar": 40
   },
   "kernels_config": {
    "python": {
     "delete_cmd_postfix": "",
     "delete_cmd_prefix": "del ",
     "library": "var_list.py",
     "varRefreshCmd": "print(var_dic_list())"
    },
    "r": {
     "delete_cmd_postfix": ") ",
     "delete_cmd_prefix": "rm(",
     "library": "var_list.r",
     "varRefreshCmd": "cat(var_dic_list()) "
    }
   },
   "types_to_exclude": [
    "module",
    "function",
    "builtin_function_or_method",
    "instance",
    "_Feature"
   ],
   "window_display": false
  }
 },
 "nbformat": 4,
 "nbformat_minor": 5
}
